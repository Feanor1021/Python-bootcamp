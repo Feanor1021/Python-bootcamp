{
 "cells": [
  {
   "cell_type": "markdown",
   "metadata": {
    "id": "JvalikMqHx6L"
   },
   "source": [
    "# First Solution"
   ]
  },
  {
   "cell_type": "code",
   "execution_count": null,
   "metadata": {
    "colab": {
     "base_uri": "https://localhost:8080/"
    },
    "executionInfo": {
     "elapsed": 259,
     "status": "ok",
     "timestamp": 1674839589024,
     "user": {
      "displayName": "Furkan yardımcı",
      "userId": "08749112245350638250"
     },
     "user_tz": -180
    },
    "id": "-Bk-akYbHvL0",
    "outputId": "c19b146a-fb27-430f-d186-26558fc8e156"
   },
   "outputs": [],
   "source": [
    "class Cat: \n",
    "    species = 'mammal' \n",
    "    def __init__(self, name, age):\n",
    "        self.name = name \n",
    "        self.age = age\n",
    "    def oldest2(*arr): # Method\n",
    "        return max(arr)\n",
    "\n",
    "#Function\n",
    "def oldest(Cats):\n",
    "    min = Cats[0] \n",
    "    for i in range(1,3): \n",
    "        if(Cats[i].age > min.age): \n",
    "            min.age = Cats[i].age \n",
    "    return min.age\n",
    "\n",
    "cat1 = Cat('kitty',15) \n",
    "cat2 = Cat('kitty cat',18) \n",
    "cat3 = Cat('kitty_bad', 19) \n",
    "Cats = list((cat1,cat2,cat3)) \n",
    "print(oldest(Cats), Cat.oldest2(cat1.age,cat2.age,cat3.age))"
   ]
  },
  {
   "cell_type": "markdown",
   "metadata": {},
   "source": [
    " ### This function can be use too"
   ]
  },
  {
   "cell_type": "code",
   "execution_count": null,
   "metadata": {},
   "outputs": [],
   "source": [
    "def oldest1(*arr): # Function\n",
    "    return max(arr)\n",
    "print(oldest1(cat1.age, cat2.age, cat3.age))"
   ]
  }
 ],
 "metadata": {
  "colab": {
   "authorship_tag": "ABX9TyMkNnykY/WEYWbaDvshi7hj",
   "provenance": []
  },
  "kernelspec": {
   "display_name": "Python 3 (ipykernel)",
   "language": "python",
   "name": "python3"
  },
  "language_info": {
   "codemirror_mode": {
    "name": "ipython",
    "version": 3
   },
   "file_extension": ".py",
   "mimetype": "text/x-python",
   "name": "python",
   "nbconvert_exporter": "python",
   "pygments_lexer": "ipython3",
   "version": "3.9.13"
  },
  "vscode": {
   "interpreter": {
    "hash": "916dbcbb3f70747c44a77c7bcd40155683ae19c65e1c03b4aa3499c5328201f1"
   }
  }
 },
 "nbformat": 4,
 "nbformat_minor": 1
}
