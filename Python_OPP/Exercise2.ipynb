{
 "cells": [
  {
   "cell_type": "code",
   "execution_count": null,
   "id": "d5bcc9ed",
   "metadata": {},
   "outputs": [],
   "source": [
    "class SuperList(list):\n",
    "    \n",
    "    def __len__(self):\n",
    "        return 1000\n",
    "\n",
    "super_list = SuperList()\n",
    "print(super_list.append(5))\n",
    "print(super_list[0])\n",
    "print(issubclass(SuperList, list), issubclass(list, object))"
   ]
  }
 ],
 "metadata": {
  "kernelspec": {
   "display_name": "Python 3 (ipykernel)",
   "language": "python",
   "name": "python3"
  },
  "language_info": {
   "codemirror_mode": {
    "name": "ipython",
    "version": 3
   },
   "file_extension": ".py",
   "mimetype": "text/x-python",
   "name": "python",
   "nbconvert_exporter": "python",
   "pygments_lexer": "ipython3",
   "version": "3.9.13"
  },
  "vscode": {
   "interpreter": {
    "hash": "916dbcbb3f70747c44a77c7bcd40155683ae19c65e1c03b4aa3499c5328201f1"
   }
  }
 },
 "nbformat": 4,
 "nbformat_minor": 5
}
