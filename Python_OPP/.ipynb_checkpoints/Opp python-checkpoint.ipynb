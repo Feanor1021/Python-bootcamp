{
 "cells": [
  {
   "cell_type": "markdown",
   "metadata": {
    "id": "AGJz9cT2wuhe"
   },
   "source": [
    "# Part1 Python OPP "
   ]
  },
  {
   "cell_type": "markdown",
   "metadata": {
    "id": "gLS0gIOA0OIL"
   },
   "source": [
    "**Notes:** Classes are like blueprints that create objects. This procedure called as instantiate and objects are called as instances.\n",
    "\n",
    "**Eg:** List is a class and it's instance is a object that has ordered, changable and allow duplicate.\n",
    "\n",
    "[ ] -- > class , a=[5,2,3,4] is instances of list class.\n",
    "\n",
    "Classes are like struct in C but they are more efficient in many terms. Both of them use to create real life objects in our code but structs just provide us to use together, number of different types. On the other hand with classes you can give attributes and methods to your object which, are special for your objects and provide lot of functionalities."
   ]
  },
  {
   "cell_type": "code",
   "execution_count": 1,
   "metadata": {
    "colab": {
     "base_uri": "https://localhost:8080/"
    },
    "executionInfo": {
     "elapsed": 250,
     "status": "ok",
     "timestamp": 1674816918307,
     "user": {
      "displayName": "Furkan yardımcı",
      "userId": "08749112245350638250"
     },
     "user_tz": -180
    },
    "id": "t24Zjt6gwtT4",
    "outputId": "8d543b59-99c9-4448-e0d1-e71df32244df"
   },
   "outputs": [
    {
     "name": "stdout",
     "output_type": "stream",
     "text": [
      "<class 'type'>\n",
      "<class '__main__.BigObject'>\n",
      "<class 'list'>\n",
      "<class 'list'>\n"
     ]
    }
   ],
   "source": [
    "class BigObject:\n",
    "      pass\n",
    "\n",
    "print(type(BigObject)) #this is a class\n",
    "obj1 = BigObject() #instanciate. We have create new object by instanciating BigObject class.\n",
    "print(type(obj1)) #this is a object\n",
    "\n",
    "print(type(list()))\n",
    "print(type([1,2,3]))"
   ]
  },
  {
   "cell_type": "markdown",
   "metadata": {
    "id": "C1qlRRec8G3k"
   },
   "source": [
    "#Part2 creating our own obj"
   ]
  },
  {
   "cell_type": "code",
   "execution_count": 3,
   "metadata": {
    "colab": {
     "base_uri": "https://localhost:8080/"
    },
    "executionInfo": {
     "elapsed": 261,
     "status": "ok",
     "timestamp": 1674822054263,
     "user": {
      "displayName": "Furkan yardımcı",
      "userId": "08749112245350638250"
     },
     "user_tz": -180
    },
    "id": "GKEi9Cnq8TID",
    "outputId": "ae2d3d83-8e32-44cc-bd02-d4d3341f11c0"
   },
   "outputs": [
    {
     "ename": "IndentationError",
     "evalue": "unindent does not match any outer indentation level (<tokenize>, line 10)",
     "output_type": "error",
     "traceback": [
      "\u001b[0;36m  File \u001b[0;32m\"<tokenize>\"\u001b[0;36m, line \u001b[0;32m10\u001b[0m\n\u001b[0;31m    def run(self):\u001b[0m\n\u001b[0m    ^\u001b[0m\n\u001b[0;31mIndentationError\u001b[0m\u001b[0;31m:\u001b[0m unindent does not match any outer indentation level\n"
     ]
    }
   ],
   "source": [
    "class PlayerCharacters:\n",
    "  # __ is called as dunder or magic method. Also called as constructor method or init method\n",
    "  # It is not the method which we know before it is called as attributes. When creating an object\n",
    "  # attributes are given to create it. This attributes are called when we are creating the onject and\n",
    "  # after the creatiation we can access this attributes with \".\". \n",
    "      def __init__(self, name, age): # it is waiting a name argument when creating the obj. This arguments are\n",
    "        self.name = name\n",
    "        self.age = age\n",
    "# Method : we can create methods as much as we want.\n",
    "      def run(self):\n",
    "        print(\"run\")\n",
    "\n",
    "player1 = PlayerCharacters(\"furkan\",13) # when we call class it will automaticaly call the magic method.\n",
    "\n",
    "print(player1.name, player1.age) # it has not () so it is attribute.\n",
    "print(player1.run()) # it has (), it is a method.\n",
    "\n",
    "# Note: We can create object as much as we want from classes. If class is has __init__ we say it has attributes\n",
    "# and this attributes are can be \"required\" when we are creating it. We can reach these attributes with \".\".\n",
    "# We can also create methods which are special to an object.\n",
    "# Classes, and objects are provide us to mimic something in real world or in our mind."
   ]
  },
  {
   "cell_type": "markdown",
   "metadata": {
    "id": "oJGbpEn8NFN6"
   },
   "source": [
    "## Attributes and Methods"
   ]
  },
  {
   "cell_type": "code",
   "execution_count": null,
   "metadata": {
    "colab": {
     "base_uri": "https://localhost:8080/"
    },
    "executionInfo": {
     "elapsed": 231,
     "status": "ok",
     "timestamp": 1674835328252,
     "user": {
      "displayName": "Furkan yardımcı",
      "userId": "08749112245350638250"
     },
     "user_tz": -180
    },
    "id": "tDcvYblKNR6I",
    "outputId": "f3752406-85b6-4979-814f-c541c58681f4"
   },
   "outputs": [],
   "source": [
    "class PlayerCharacters:\n",
    "  #Class Object Attribute\n",
    "  membership = True # it is different from attributes because of static feature.\n",
    "    def __init__(self, name, age):\n",
    "        self.name = name # sel.attributes are dynamic because you can give what ever you want to them but you can't do it with c.o.as\n",
    "        self.age = age\n",
    "\n",
    "    def run(self):\n",
    "        print(f\"my name is {self.name, self.membership}\") # you can use static and dynamic attributes with self keyword\n",
    "        print(f\"membership = {PlayerCharacters.membership}\") # But you can't do it with class's name it self. You can just use static attributes(C.O.A)\n",
    "\n",
    "player1 = PlayerCharacters(\"furkan\",13)\n",
    "player1.attack=50\n",
    "print(player1.name, player1.age) \n",
    "print(player1.run()) "
   ]
  }
 ],
 "metadata": {
  "colab": {
   "authorship_tag": "ABX9TyMvvR5ToxKLCFhiLASeaQGH",
   "provenance": []
  },
  "kernelspec": {
   "display_name": "Python 3 (ipykernel)",
   "language": "python",
   "name": "python3"
  },
  "language_info": {
   "codemirror_mode": {
    "name": "ipython",
    "version": 3
   },
   "file_extension": ".py",
   "mimetype": "text/x-python",
   "name": "python",
   "nbconvert_exporter": "python",
   "pygments_lexer": "ipython3",
   "version": "3.9.13"
  }
 },
 "nbformat": 4,
 "nbformat_minor": 1
}
