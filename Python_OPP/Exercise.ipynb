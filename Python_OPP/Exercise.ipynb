{
 "cells": [
  {
   "cell_type": "code",
   "execution_count": 1,
   "id": "b5fb13c1",
   "metadata": {},
   "outputs": [],
   "source": [
    "class Pets():\n",
    "    animals = [] # To determine the animals should be list.\n",
    "    def __init__(self, animals):\n",
    "        self.animals = animals\n",
    "\n",
    "    def walk(self):\n",
    "        for animal in self.animals:\n",
    "            print(animal.walk())"
   ]
  },
  {
   "cell_type": "code",
   "execution_count": 2,
   "id": "5f1e87d8",
   "metadata": {},
   "outputs": [],
   "source": [
    "class Cat():\n",
    "    is_lazy = True\n",
    "\n",
    "    def __init__(self, name, age):\n",
    "        self.name = name\n",
    "        self.age = age\n",
    "\n",
    "    def walk(self):\n",
    "        return f'{self.name} is just walking around'"
   ]
  },
  {
   "cell_type": "code",
   "execution_count": 3,
   "id": "4d19be28",
   "metadata": {},
   "outputs": [],
   "source": [
    "class Simon(Cat):\n",
    "    def sing(self, sounds):\n",
    "        return f'{sounds}'"
   ]
  },
  {
   "cell_type": "code",
   "execution_count": 4,
   "id": "1b272b90",
   "metadata": {},
   "outputs": [],
   "source": [
    "class Sally(Cat):\n",
    "    def sing(self, sounds):\n",
    "        return f'{sounds}'"
   ]
  },
  {
   "cell_type": "code",
   "execution_count": 5,
   "id": "fa600881",
   "metadata": {},
   "outputs": [],
   "source": [
    "class Molly(Cat):\n",
    "    def sing(self, sounds):\n",
    "        return f'{sounds}'"
   ]
  },
  {
   "cell_type": "code",
   "execution_count": 6,
   "id": "a58267da",
   "metadata": {},
   "outputs": [],
   "source": [
    "cat1 = Sally('kitty1', 18)\n",
    "cat2 = Simon('kitty2', 20)\n",
    "cat3 = Molly('kitty3', 25)"
   ]
  },
  {
   "cell_type": "code",
   "execution_count": 7,
   "id": "ee6a0a97",
   "metadata": {},
   "outputs": [],
   "source": [
    "my_cats = [cat1, cat2, cat3]"
   ]
  },
  {
   "cell_type": "code",
   "execution_count": 9,
   "id": "c43d960c",
   "metadata": {},
   "outputs": [
    {
     "name": "stdout",
     "output_type": "stream",
     "text": [
      "kitty1 is just walking around\n",
      "kitty2 is just walking around\n",
      "kitty3 is just walking around\n"
     ]
    }
   ],
   "source": [
    "my_cats_class = Pets(my_cats)\n",
    "\n",
    "my_cats_class.walk()"
   ]
  }
 ],
 "metadata": {
  "kernelspec": {
   "display_name": "Python 3 (ipykernel)",
   "language": "python",
   "name": "python3"
  },
  "language_info": {
   "codemirror_mode": {
    "name": "ipython",
    "version": 3
   },
   "file_extension": ".py",
   "mimetype": "text/x-python",
   "name": "python",
   "nbconvert_exporter": "python",
   "pygments_lexer": "ipython3",
   "version": "3.9.13"
  }
 },
 "nbformat": 4,
 "nbformat_minor": 5
}
