{
 "cells": [
  {
   "cell_type": "code",
   "execution_count": null,
   "id": "4b7ee98c",
   "metadata": {},
   "outputs": [],
   "source": [
    "class Pets():\n",
    "    animals = [] # To determine the animals should be list.\n",
    "    def __init__(self, animals):\n",
    "        self.animals = animals\n",
    "\n",
    "    def walk(self):\n",
    "        for animal in self.animals:\n",
    "            print(animal.walk())"
   ]
  },
  {
   "cell_type": "code",
   "execution_count": null,
   "id": "fa38efa4",
   "metadata": {},
   "outputs": [],
   "source": [
    "class Cat():\n",
    "    is_lazy = True\n",
    "\n",
    "    def __init__(self, name, age):\n",
    "        self.name = name\n",
    "        self.age = age\n",
    "\n",
    "    def walk(self):\n",
    "        return f'{self.name} is just walking around'"
   ]
  },
  {
   "cell_type": "code",
   "execution_count": null,
   "id": "c1e0dda1",
   "metadata": {},
   "outputs": [],
   "source": [
    "class Simon(Cat):\n",
    "    def sing(self, sounds):\n",
    "        return f'{sounds}'"
   ]
  },
  {
   "cell_type": "code",
   "execution_count": null,
   "id": "58a3ba65",
   "metadata": {},
   "outputs": [],
   "source": [
    "class Sally(Cat):\n",
    "    def sing(self, sounds):\n",
    "        return f'{sounds}'"
   ]
  },
  {
   "cell_type": "code",
   "execution_count": null,
   "id": "e9b4795b",
   "metadata": {},
   "outputs": [],
   "source": [
    "class Molly(Cat):\n",
    "    def sing(self, sounds):\n",
    "        return f'{sounds}'"
   ]
  },
  {
   "cell_type": "code",
   "execution_count": null,
   "id": "f0296643",
   "metadata": {},
   "outputs": [],
   "source": [
    "cat1 = Sally('kitty1', 18)\n",
    "cat2 = Simon('kitty2', 20)\n",
    "cat3 = Molly('kitty3', 25)"
   ]
  },
  {
   "cell_type": "code",
   "execution_count": null,
   "id": "14eea8af",
   "metadata": {},
   "outputs": [],
   "source": [
    "my_cats = [cat1, cat2, cat3]"
   ]
  },
  {
   "cell_type": "code",
   "execution_count": null,
   "id": "22a31f43",
   "metadata": {},
   "outputs": [],
   "source": [
    "my_cats_class = Pets(my_cats)\n",
    "\n",
    "my_cats_class.walk()"
   ]
  }
 ],
 "metadata": {
  "kernelspec": {
   "display_name": "Python 3 (ipykernel)",
   "language": "python",
   "name": "python3"
  },
  "language_info": {
   "codemirror_mode": {
    "name": "ipython",
    "version": 3
   },
   "file_extension": ".py",
   "mimetype": "text/x-python",
   "name": "python",
   "nbconvert_exporter": "python",
   "pygments_lexer": "ipython3",
   "version": "3.9.13"
  },
  "vscode": {
   "interpreter": {
    "hash": "916dbcbb3f70747c44a77c7bcd40155683ae19c65e1c03b4aa3499c5328201f1"
   }
  }
 },
 "nbformat": 4,
 "nbformat_minor": 5
}
