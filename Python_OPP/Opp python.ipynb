{
 "cells": [
  {
   "cell_type": "code",
   "execution_count": null,
   "metadata": {},
   "outputs": [],
   "source": [
    "%load_ext nb_black"
   ]
  },
  {
   "cell_type": "markdown",
   "metadata": {
    "id": "AGJz9cT2wuhe"
   },
   "source": [
    "# Part1 Python OPP "
   ]
  },
  {
   "cell_type": "markdown",
   "metadata": {
    "id": "gLS0gIOA0OIL"
   },
   "source": [
    "**Notes:** Classes are like blueprints that create objects. This procedure called as instantiate and objects are called as instances.\n",
    "\n",
    "**Eg:** List is a class and it's instance is a object that has ordered, changable and allow duplicate.\n",
    "\n",
    "[ ] -- > class , a=[5,2,3,4] is instances of list class.\n",
    "\n",
    "Classes are like struct in C but they are more efficient in many terms. Both of them use to create real life objects in our code but structs just provide us to use together, number of different types. On the other hand with classes you can give attributes and methods to your object which, are special for your objects and provide lot of functionalities."
   ]
  },
  {
   "cell_type": "code",
   "execution_count": null,
   "metadata": {
    "colab": {
     "base_uri": "https://localhost:8080/"
    },
    "executionInfo": {
     "elapsed": 250,
     "status": "ok",
     "timestamp": 1674816918307,
     "user": {
      "displayName": "Furkan yardımcı",
      "userId": "08749112245350638250"
     },
     "user_tz": -180
    },
    "id": "t24Zjt6gwtT4",
    "outputId": "8d543b59-99c9-4448-e0d1-e71df32244df"
   },
   "outputs": [],
   "source": [
    "class BigObject: # Class name should be \"CamelCase\"\n",
    "    pass\n",
    "\n",
    "\n",
    "print(type(BigObject))  # this is a class\n",
    "obj1 = (\n",
    "    BigObject()\n",
    ")  # instantiate. We have create new object by instantiating BigObject class.\n",
    "print(type(obj1))  # this is a object\n",
    "\n",
    "print(type(list()))\n",
    "print(type([1, 2, 3]))"
   ]
  },
  {
   "cell_type": "markdown",
   "metadata": {
    "id": "C1qlRRec8G3k"
   },
   "source": [
    "### Part2 creating our own obj"
   ]
  },
  {
   "cell_type": "code",
   "execution_count": null,
   "metadata": {
    "colab": {
     "base_uri": "https://localhost:8080/"
    },
    "executionInfo": {
     "elapsed": 261,
     "status": "ok",
     "timestamp": 1674822054263,
     "user": {
      "displayName": "Furkan yardımcı",
      "userId": "08749112245350638250"
     },
     "user_tz": -180
    },
    "id": "GKEi9Cnq8TID",
    "outputId": "ae2d3d83-8e32-44cc-bd02-d4d3341f11c0"
   },
   "outputs": [],
   "source": [
    "class PlayerCharacters:\n",
    "    # __init__ is called as dunder or magic method. Also called as constructor method or init method\n",
    "    # It is not the method which we know before it is called as attributes. When creating an object\n",
    "    # attributes are given to create it. This attributes are called when we are creating the onject and\n",
    "    # after the creatiation we can access this attributes with \".\".\n",
    "    def __init__(\n",
    "        self, name, age\n",
    "    ):  # it is waiting a name argument when creating the obj. This arguments are\n",
    "        self.name = name\n",
    "        self.age = age\n",
    "\n",
    "    # Method : we can create methods as much as we want.\n",
    "    def run(self):\n",
    "        print(\"run\")\n",
    "\n",
    "\n",
    "player1 = PlayerCharacters(\n",
    "    \"furkan\", 13\n",
    ")  # when we call class it will automaticaly call the magic method.\n",
    "\n",
    "print(player1.name, player1.age)  # it has not () so it is attribute.\n",
    "print(player1.run())  # it has (), it is a method.\n",
    "\n",
    "# Note: We can create object as much as we want from classes. If class is has __init__ we say it has attributes\n",
    "# and this attributes are can be \"required\" when we are creating it. We can reach these attributes with \".\".\n",
    "# We can also create methods which are special to an object.\n",
    "# Classes, and objects are provide us to mimic something in real world or in our mind."
   ]
  },
  {
   "cell_type": "markdown",
   "metadata": {
    "id": "oJGbpEn8NFN6"
   },
   "source": [
    "### Actual attirbutes and methods"
   ]
  },
  {
   "cell_type": "code",
   "execution_count": null,
   "metadata": {
    "colab": {
     "base_uri": "https://localhost:8080/"
    },
    "executionInfo": {
     "elapsed": 231,
     "status": "ok",
     "timestamp": 1674835328252,
     "user": {
      "displayName": "Furkan yardımcı",
      "userId": "08749112245350638250"
     },
     "user_tz": -180
    },
    "id": "tDcvYblKNR6I",
    "outputId": "f3752406-85b6-4979-814f-c541c58681f4"
   },
   "outputs": [],
   "source": [
    "class PlayerCharacters:\n",
    "    # Class Object Attribute\n",
    "    membership = True  # it is actual attribute of the class and it can not be changed as attributes below.\n",
    "    # Actual means that it is not depends on the intances. You can not change it when intantiating any object.\n",
    "    def __init__(self, name, age):\n",
    "        # sel.attributes are dynamic because you can give what ever you want to them but you can't do it with c.o.as\n",
    "        self.name = name\n",
    "        self.age = age\n",
    "\n",
    "    def run(self):\n",
    "        print(\n",
    "            f\"my name is {self.name, self.membership}\"\n",
    "        )  # you can use static and dynamic attributes with self keyword\n",
    "        print(\n",
    "            f\"membership = {PlayerCharacters.membership}\"\n",
    "        )  # But you can't do it with class's name it self. You can just use static attributes(C.O.A)\n",
    "\n",
    "\n",
    "player1 = PlayerCharacters(\"furkan\", 13)\n",
    "player1.attack = 50\n",
    "print(player1.name, player1.age)\n",
    "print(player1.run())"
   ]
  },
  {
   "cell_type": "markdown",
   "metadata": {},
   "source": [
    "### Actual methods and instantiating an object with them"
   ]
  },
  {
   "cell_type": "code",
   "execution_count": null,
   "metadata": {},
   "outputs": [],
   "source": [
    "\n",
    "class PlayerCharacters:\n",
    "    membership = True \n",
    "    def __init__(self, name, age):\n",
    "        self.name = name \n",
    "        self.age = age\n",
    "    def shout(self):\n",
    "        print(f\"my name is {self.name, self.membership}\")\n",
    "\n",
    "    # We can also create actual methods as like attributes. \n",
    "    # This is a classmethod. You can use them without instantiate any object.\n",
    "    @classmethod\n",
    "    def adding_things(cls, num1, num2):\n",
    "        # return num1+num2;\n",
    "        return cls(\"Furkan\",num1+num2) # You can also use actual methods to intantiate an object.\n",
    "    \n",
    "    # Staticmethod is also actual method, but with it you can not use cls. You can not instantiate an object with this method.\n",
    "    @staticmethod\n",
    "    def adding_things2(num1, num2):\n",
    "        return (num1+num2)\n",
    "\n",
    "# print(PlayerCharacters.adding_things(2,2)) # We have not instantiate any object.\n",
    "print(PlayerCharacters.adding_things(2,2).name) # We have instantiate an object with actual method.\n",
    "print(PlayerCharacters.adding_things2(4,5)) # Static actual method.\n"
   ]
  }
 ],
 "metadata": {
  "colab": {
   "authorship_tag": "ABX9TyMvvR5ToxKLCFhiLASeaQGH",
   "provenance": []
  },
  "kernelspec": {
   "display_name": "Python 3 (ipykernel)",
   "language": "python",
   "name": "python3"
  },
  "language_info": {
   "codemirror_mode": {
    "name": "ipython",
    "version": 3
   },
   "file_extension": ".py",
   "mimetype": "text/x-python",
   "name": "python",
   "nbconvert_exporter": "python",
   "pygments_lexer": "ipython3",
   "version": "3.9.13"
  },
  "vscode": {
   "interpreter": {
    "hash": "916dbcbb3f70747c44a77c7bcd40155683ae19c65e1c03b4aa3499c5328201f1"
   }
  }
 },
 "nbformat": 4,
 "nbformat_minor": 1
}
